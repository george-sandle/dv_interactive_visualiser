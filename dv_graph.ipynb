{
 "cells": [
  {
   "cell_type": "code",
   "execution_count": 1,
   "id": "540ec85f-561e-4012-b239-d1d7e9b0ed28",
   "metadata": {
    "pycharm": {
     "name": "#%%\n"
    }
   },
   "outputs": [],
   "source": [
    "import pickle\n",
    "import os\n",
    "from ipywidgets import interact, widgets\n",
    "import matplotlib.pyplot as plt\n",
    "import pandas as pd\n",
    "results = pickle.load(open(os.getcwd()+f'/all_results.pkl',mode='rb'))\n",
    "metrics = pickle.load(open(os.getcwd()+f'/combined_metrics.pkl',mode='rb'))\n",
    "models = ['risks_timeline','visual_content_timeline','ocr_timeline','nsfw_timeline']\n",
    "\n"
   ]
  },
  {
   "cell_type": "code",
   "execution_count": 2,
   "id": "0bccb350-a073-4a67-b0e5-1c6dc756dda8",
   "metadata": {
    "pycharm": {
     "name": "#%%\n"
    }
   },
   "outputs": [
    {
     "data": {
      "application/vnd.jupyter.widget-view+json": {
       "model_id": "00a9b0005aad4442ab1f8163c2614fc4",
       "version_major": 2,
       "version_minor": 0
      },
      "text/plain": [
       "interactive(children=(Dropdown(description='Model', options=('risks_timeline', 'visual_content_timeline', 'ocr…"
      ]
     },
     "metadata": {},
     "output_type": "display_data"
    },
    {
     "data": {
      "text/plain": [
       "<function __main__.f(Model, Predictions, Garm_Category, Metric, Precision)>"
      ]
     },
     "execution_count": 2,
     "metadata": {},
     "output_type": "execute_result"
    }
   ],
   "source": [
    "percentages = [1.0,0.5,0.2,0.1]\n",
    "fps_dict = { 'risks_timeline':[10,5,2,1],'visual_content_timeline':[10,5,2,1],'ocr_timeline':[1.0,0.5,0.2,0.1],'nsfw_timeline':[1.0,0.5,0.2,0.1]}\n",
    "def f(Model, Predictions,Garm_Category,Metric,Precision):\n",
    "    key = Model+'_'+Predictions+' '+Precision+'_'+Garm_Category+'_'+Metric\n",
    "    plt.style.use('Solarize_Light2')\n",
    "    plt.scatter(fps_dict[Model],results[key])\n",
    "   \n",
    "    \n",
    "    plt.xlabel('FPS')\n",
    "    plt.ylabel(f'{Metric}')\n",
    "    plt.title(f'Sampling {Model} {Garm_Category} With {Precision}: Metric is {Metric}, {Predictions}')\n",
    "\n",
    "    for index in range(len(fps_dict[Model])):\n",
    "        plt.text(fps_dict[Model][index], results[key][index], results[key][index], size=12)\n",
    "    \n",
    "    plt.rcParams[\"figure.figsize\"] = (10,3)\n",
    "    plt.show()\n",
    "    plt.savefig(f'Sampling {Model} {Garm_Category} With {Precision}: Metric is {Metric}, {Predictions}.png')\n",
    "    \n",
    "c =widgets.interact(f, Model =models, Predictions=['Combined','No Keywords'], Precision = ['High Precision','Low Precision'],Garm_Category=list(metrics[0][0].index),Metric=list(metrics[0][0].columns))\n"
    
   ]
  }
 ],
 "metadata": {
  "_draft": {
   "nbviewer_url": "https://gist.github.com/6fab7527c52457f79199e65a40a3f566"
  },
  "gist": {
   "data": {
    "description": "Testing DV Metrics.ipynb",
    "public": true
   },
   "id": "6fab7527c52457f79199e65a40a3f566"
  },
  "kernelspec": {
   "display_name": "Python 3 (ipykernel)",
   "language": "python",
   "name": "python3"
  },
  "language_info": {
   "codemirror_mode": {
    "name": "ipython",
    "version": 3
   },
   "file_extension": ".py",
   "mimetype": "text/x-python",
   "name": "python",
   "nbconvert_exporter": "python",
   "pygments_lexer": "ipython3",
   "version": "3.9.12"
  }
 },
 "nbformat": 4,
 "nbformat_minor": 5
}
