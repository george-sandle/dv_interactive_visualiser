{
 "cells": [
  {
   "cell_type": "code",
   "execution_count": 1,
   "id": "540ec85f-561e-4012-b239-d1d7e9b0ed28",
   "metadata": {
    "pycharm": {
     "name": "#%%\n"
    }
   },
   "outputs": [],
   "source": [
    "import pickle\n",
    "import os\n",
    "from ipywidgets import interact, widgets\n",
    "import matplotlib.pyplot as plt\n",
    "import pandas as pd\n",
    "results = pickle.load(open(os.getcwd()+f'/all_results.pkl',mode='rb'))\n",
    "metrics = pickle.load(open(os.getcwd()+f'/combined_metrics.pkl',mode='rb'))\n",
    "models = ['risks_timeline','visual_content_timeline','ocr_timeline','nsfw_timeline']\n",
    "\n"
   ]
  },
  {
   "cell_type": "code",
   "execution_count": 3,
   "id": "366edc92-bb4d-439f-8f65-84a7be58a2ab",
   "metadata": {
    "pycharm": {
     "name": "#%%\n"
    }
   },
   "outputs": [
    {
     "data": {
      "application/vnd.jupyter.widget-view+json": {
       "model_id": "4e16561f01644ad0a2006a8891135872",
       "version_major": 2,
       "version_minor": 0
      },
      "text/plain": [
       "interactive(children=(Dropdown(description='Model', options=('risks_timeline', 'visual_content_timeline', 'ocr…"
      ]
     },
     "metadata": {},
     "output_type": "display_data"
    },
    {
     "data": {
      "text/plain": [
       "<function __main__.f(Model, Predictions, Metric, Precision)>"
      ]
     },
     "execution_count": 3,
     "metadata": {},
     "output_type": "execute_result"
    }
   ],
   "source": [
    "garms = list(metrics[0][0].index)\n",
    "perfomance_metrics = list(metrics[0][0].columns)\n",
    "garm = garms[0]\n",
    "\n",
    "\n",
    "def f(Model, Predictions,Metric,Precision):\n",
    "    percentages = []\n",
    "    cats = []\n",
    "    for g in garms:\n",
    "        try:\n",
    "            percentages.append( [str(x) for x in results[f'{Model}_{Predictions} {Precision}_{g}_{Metric}']])\n",
    "            cats.append(g)\n",
    "        except:\n",
    "            pass\n",
    "  \n",
    "    df = pd.DataFrame(percentages,columns = [str(i) +' fps' for i in fps_dict[Model]])\n",
    "    df['Garm Category'] = cats\n",
    "    \n",
    "   \n",
    "\n",
    "    \n",
    "\n",
    "    \n",
    "      \n",
    "    df = df[  ['Garm Category'] + [ str(i)+' fps' for i in fps_dict[Model]]]\n",
    "    df = df.set_index('Garm Category')\n",
    "  \n",
    "    \n",
    "    df = df.style.format( {i:'${0:,.0f}' for i in fps_dict[Model]}).set_caption(f'Sampling {Model} using {Predictions} Predictions {Precision}. Metric is {Metric}' ).set_table_styles([{\n",
    "    'selector': 'caption',\n",
    "    'props': [\n",
    "        ('color', 'white'),\n",
    "        ('font-size', '14px')\n",
    "    ]\n",
    "}])\n",
    "    \n",
    "    \n",
    "    return df\n",
    "d = widgets.interact(f, Model =models, Predictions=['Combined','No Keywords'], Precision = ['High Precision','Low Precision'],Metric=list(metrics[0][0].columns))\n",
    "d\n"
   ]
  }
 ],
 "metadata": {
  "_draft": {
   "nbviewer_url": "https://gist.github.com/6fab7527c52457f79199e65a40a3f566"
  },
  "gist": {
   "data": {
    "description": "Testing DV Metrics.ipynb",
    "public": true
   },
   "id": "6fab7527c52457f79199e65a40a3f566"
  },
  "kernelspec": {
   "display_name": "Python 3 (ipykernel)",
   "language": "python",
   "name": "python3"
  },
  "language_info": {
   "codemirror_mode": {
    "name": "ipython",
    "version": 3
   },
   "file_extension": ".py",
   "mimetype": "text/x-python",
   "name": "python",
   "nbconvert_exporter": "python",
   "pygments_lexer": "ipython3",
   "version": "3.9.12"
  }
 },
 "nbformat": 4,
 "nbformat_minor": 5
}
